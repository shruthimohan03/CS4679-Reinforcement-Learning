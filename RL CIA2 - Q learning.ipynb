{
 "cells": [
  {
   "cell_type": "markdown",
   "id": "f87f08b6",
   "metadata": {},
   "source": [
    "### Setting up the environment [grid] with obstacles"
   ]
  },
  {
   "cell_type": "code",
   "execution_count": 1,
   "id": "0ddb14dd",
   "metadata": {},
   "outputs": [],
   "source": [
    "import numpy as np\n",
    "\n",
    "GRID_SIZE = 100\n",
    "START = (np.random.randint(0, GRID_SIZE), np.random.randint(0, GRID_SIZE))\n",
    "GOAL = (np.random.randint(0, GRID_SIZE), np.random.randint(0, GRID_SIZE))\n",
    "while GOAL == START:  \n",
    "    GOAL = (np.random.randint(0, GRID_SIZE), np.random.randint(0, GRID_SIZE))"
   ]
  },
  {
   "cell_type": "markdown",
   "id": "2415959c",
   "metadata": {},
   "source": [
    "#### OBSTACLES"
   ]
  },
  {
   "cell_type": "code",
   "execution_count": 2,
   "id": "1be69232",
   "metadata": {},
   "outputs": [],
   "source": [
    "grid = np.zeros((GRID_SIZE, GRID_SIZE))\n",
    "num_obstacles = int(0.2 * GRID_SIZE * GRID_SIZE)  # 20% obstacles\n",
    "\n",
    "for _ in range(num_obstacles):\n",
    "    x, y = np.random.randint(0, GRID_SIZE), np.random.randint(0, GRID_SIZE)\n",
    "    if (x, y) != START and (x, y) != GOAL:\n",
    "        grid[x, y] = -1  # Obstacle represented as -1"
   ]
  },
  {
   "cell_type": "code",
   "execution_count": 3,
   "id": "b597d83e",
   "metadata": {},
   "outputs": [],
   "source": [
    "grid[START] = 1  # Start point\n",
    "grid[GOAL] = 2   # Goal point"
   ]
  },
  {
   "cell_type": "markdown",
   "id": "2e681e82",
   "metadata": {},
   "source": [
    "### Setting up the actions, states, rewards and transition probabilities "
   ]
  },
  {
   "cell_type": "code",
   "execution_count": 4,
   "id": "dc5d1f8e",
   "metadata": {},
   "outputs": [],
   "source": [
    "ACTIONS = [(0, 1), (1, 0), (0, -1), (-1, 0)]  # Right, Down, Left, Up\n",
    "REWARD_GOAL = 10\n",
    "REWARD_MOVE = -1\n",
    "REWARD_OBSTACLE = -10\n",
    "\n",
    "def get_next_state(state, action):\n",
    "    x, y = state\n",
    "    dx, dy = action\n",
    "    nx, ny = x + dx, y + dy\n",
    "    if 0 <= nx < GRID_SIZE and 0 <= ny < GRID_SIZE and grid[nx, ny] != -1:\n",
    "        return nx, ny\n",
    "    return state  # No movement if out of bounds or obstacle"
   ]
  },
  {
   "cell_type": "markdown",
   "id": "ed27ba1d",
   "metadata": {},
   "source": [
    "#### Value Iteration using Dynamic Programming"
   ]
  },
  {
   "cell_type": "code",
   "execution_count": 5,
   "id": "5db0fb91",
   "metadata": {},
   "outputs": [],
   "source": [
    "def value_iteration(gamma=0.9, theta=1e-4):\n",
    "    V = np.zeros((GRID_SIZE, GRID_SIZE))  # Initialize value function\n",
    "    while True:\n",
    "        delta = 0\n",
    "        for x in range(GRID_SIZE):\n",
    "            for y in range(GRID_SIZE):\n",
    "                if (x, y) == GOAL:\n",
    "                    continue\n",
    "                v = V[x, y]\n",
    "                V[x, y] = max(REWARD_MOVE + gamma * V[get_next_state((x, y), action)]\n",
    "                              for action in ACTIONS)\n",
    "                delta = max(delta, abs(v - V[x, y]))\n",
    "        if delta < theta:\n",
    "            break\n",
    "    return V"
   ]
  },
  {
   "cell_type": "markdown",
   "id": "7e38ea7b",
   "metadata": {},
   "source": [
    "### Q-Learning"
   ]
  },
  {
   "cell_type": "code",
   "execution_count": 6,
   "id": "a0f58eea",
   "metadata": {},
   "outputs": [],
   "source": [
    "import random\n",
    "\n",
    "def q_learning(alpha=0.1, gamma=0.9, epsilon=0.1, episodes=1000):\n",
    "    Q = np.zeros((GRID_SIZE, GRID_SIZE, len(ACTIONS)))  # Initialize Q-values\n",
    "\n",
    "    for episode in range(episodes):\n",
    "        state = START\n",
    "        while state != GOAL:\n",
    "            if random.uniform(0, 1) < epsilon:\n",
    "                action_idx = random.choice(range(len(ACTIONS)))\n",
    "            else:\n",
    "                action_idx = np.argmax(Q[state[0], state[1], :])\n",
    "\n",
    "            action = ACTIONS[action_idx]\n",
    "            next_state = get_next_state(state, action)\n",
    "            reward = REWARD_GOAL if next_state == GOAL else (REWARD_OBSTACLE if grid[next_state] == -1 else REWARD_MOVE)\n",
    "\n",
    "            # Update Q-value\n",
    "            best_next_action = np.max(Q[next_state[0], next_state[1], :])\n",
    "            Q[state[0], state[1], action_idx] += alpha * (reward + gamma * best_next_action - Q[state[0], state[1], action_idx])\n",
    "            state = next_state\n",
    "\n",
    "    return Q\n"
   ]
  },
  {
   "cell_type": "markdown",
   "id": "56c181c1",
   "metadata": {},
   "source": [
    "### Evaluation"
   ]
  },
  {
   "cell_type": "code",
   "execution_count": 7,
   "id": "52584c1a",
   "metadata": {},
   "outputs": [
    {
     "name": "stdout",
     "output_type": "stream",
     "text": [
      "Value Iteration completed in 8.276225566864014 seconds\n"
     ]
    }
   ],
   "source": [
    "import time\n",
    "\n",
    "# Benchmarking utility\n",
    "def evaluate_policy(policy_function, *args):\n",
    "    start_time = time.time()\n",
    "    V = policy_function(*args)\n",
    "    elapsed_time = time.time() - start_time\n",
    "    return V, elapsed_time\n",
    "\n",
    "# Running DP with Value Iteration\n",
    "V_dp, dp_time = evaluate_policy(value_iteration)\n",
    "print(\"Value Iteration completed in\", dp_time, \"seconds\")\n",
    "\n",
    "# Running Q-learning\n",
    "Q = q_learning()\n"
   ]
  },
  {
   "cell_type": "markdown",
   "id": "66702d17",
   "metadata": {},
   "source": [
    "### Visualization"
   ]
  },
  {
   "cell_type": "code",
   "execution_count": 8,
   "id": "87f839aa",
   "metadata": {},
   "outputs": [
    {
     "data": {
      "image/png": "[encoded data removed]",
      "text/plain": [
       "<Figure size 576x576 with 1 Axes>"
      ]
     },
     "metadata": {
      "needs_background": "light"
     },
     "output_type": "display_data"
    }
   ],
   "source": [
    "import matplotlib.pyplot as plt\n",
    "\n",
    "def plot_grid(grid, path=None):\n",
    "    plt.figure(figsize=(8, 8))\n",
    "    plt.imshow(grid, cmap='gray', origin='upper')\n",
    "    if path:\n",
    "        px, py = zip(*path)\n",
    "        plt.plot(py, px, color='blue')  # Path shown in blue\n",
    "    plt.scatter(*START[::-1], color='green', label='Start')  # Start\n",
    "    plt.scatter(*GOAL[::-1], color='red', label='Goal')  # Goal\n",
    "    plt.legend()\n",
    "    plt.show()\n",
    "\n",
    "# Example usage\n",
    "plot_grid(grid)\n"
   ]
  }
 ],
 "metadata": {
  "kernelspec": {
   "display_name": "Python 3 (ipykernel)",
   "language": "python",
   "name": "python3"
  },
  "language_info": {
   "codemirror_mode": {
    "name": "ipython",
    "version": 3
   },
   "file_extension": ".py",
   "mimetype": "text/x-python",
   "name": "python",
   "nbconvert_exporter": "python",
   "pygments_lexer": "ipython3",
   "version": "3.9.7"
  }
 },
 "nbformat": 4,
 "nbformat_minor": 5
}
