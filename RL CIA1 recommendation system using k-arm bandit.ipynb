{
 "cells": [
  {
   "cell_type": "code",
   "execution_count": 1,
   "id": "647bdcea",
   "metadata": {},
   "outputs": [],
   "source": [
    "import numpy as np\n",
    "\n",
    "class KArmedBandit:\n",
    "    def __init__(self, k=10, epsilon=0.1, initial_reward=0.0):\n",
    "        self.k = k #Number of arms\n",
    "        self.epsilon = epsilon\n",
    "        self.q_values = np.full(k, initial_reward)  # Estimated rewards for each arm\n",
    "        self.action_counts = np.zeros(k)  # Counts of each action's pulls\n",
    "\n",
    "    def select_action(self):\n",
    "        if np.random.rand() < self.epsilon:\n",
    "            # Explore: Randomly select an arm\n",
    "            return np.random.randint(self.k)\n",
    "        else:\n",
    "            # Exploit: Select the arm with the highest estimated reward\n",
    "            return np.argmax(self.q_values)\n",
    "\n",
    "    def update_estimates(self, action, reward):\n",
    "        self.action_counts[action] += 1\n",
    "        alpha = 1 / self.action_counts[action]  # Learning rate\n",
    "        self.q_values[action] += alpha * (reward - self.q_values[action])\n",
    "\n",
    "    def run(self, true_rewards, steps=1000):\n",
    "        rewards = []\n",
    "        for step in range(steps):\n",
    "            action = self.select_action()\n",
    "            reward = np.random.normal(true_rewards[action], 1)  # Sample reward with some noise\n",
    "            self.update_estimates(action, reward)\n",
    "            rewards.append(reward)\n",
    "        return rewards"
   ]
  },
  {
   "cell_type": "code",
   "execution_count": 2,
   "id": "78d1b92b",
   "metadata": {},
   "outputs": [
    {
     "name": "stdout",
     "output_type": "stream",
     "text": [
      "Estimated rewards: [-0.47206523 -0.71498116  1.15559955  0.58431731  0.31273101  1.27083679\n",
      "  0.02592271  1.75629445  0.05597507  0.86077529 -1.75213205 -0.85330144\n",
      " -0.57378473  0.90737564  0.68687842]\n",
      "True rewards: [-0.13468281 -0.24536828  0.91654646  0.75565093 -0.1580986   1.28700239\n",
      " -0.41827881  1.78239363 -0.0332194   0.60527318 -2.02569577 -0.51996135\n",
      " -0.61394526  0.8357007   0.59370834]\n"
     ]
    }
   ],
   "source": [
    "k = 15  # Number of arms\n",
    "epsilon = 0.1  # Exploration rate\n",
    "true_rewards = np.random.normal(0, 1, k)  \n",
    "\n",
    "bandit = KArmedBandit(k=k, epsilon=epsilon)\n",
    "rewards = bandit.run(true_rewards, steps=1000)\n",
    "\n",
    "print(\"Estimated rewards:\", bandit.q_values)\n",
    "print(\"True rewards:\", true_rewards)\n"
   ]
  }
 ],
 "metadata": {
  "kernelspec": {
   "display_name": "Python 3 (ipykernel)",
   "language": "python",
   "name": "python3"
  },
  "language_info": {
   "codemirror_mode": {
    "name": "ipython",
    "version": 3
   },
   "file_extension": ".py",
   "mimetype": "text/x-python",
   "name": "python",
   "nbconvert_exporter": "python",
   "pygments_lexer": "ipython3",
   "version": "3.9.7"
  }
 },
 "nbformat": 4,
 "nbformat_minor": 5
}
